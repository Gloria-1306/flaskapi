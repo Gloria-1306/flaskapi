{
 "cells": [
  {
   "cell_type": "code",
   "execution_count": null,
   "metadata": {},
   "outputs": [],
   "source": [
    "import os\n",
    "c_id = os.getenv('SPOTIPY_CLIENT_ID')\n",
    "c_secret = os.getenv('SPOTIPY_CLIENT_SECRET')\n",
    "\n",
    "c_id, c_secret"
   ]
  }
 ],
 "metadata": {
  "language_info": {
   "name": "python"
  }
 },
 "nbformat": 4,
 "nbformat_minor": 2
}
